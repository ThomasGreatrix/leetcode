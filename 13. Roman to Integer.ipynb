{
 "cells": [
  {
   "cell_type": "code",
   "execution_count": null,
   "id": "d8e0e108",
   "metadata": {},
   "outputs": [],
   "source": [
    "def romanToInt(s):\n",
    "    \"\"\"\n",
    "    Takes a roman numeral and\n",
    "    turns it into an integer.\n",
    "    \"\"\"\n",
    "    # A list of numerals + the list of their values\n",
    "    numerals = [\"IV\",\"IX\",\"XL\",\"XC\",\"CD\",\"CM\",\"I\",\"V\",\"X\",\"L\",\"C\",\"D\",\"M\"]\n",
    "    vals = [4,9,40,90,400,900,1,5,10,50,100,500,1000]\n",
    "    \n",
    "    # The list of the numbers to sum at the end. Empty by default.\n",
    "    nums = list()\n",
    "    for i in range(len(numerals)):\n",
    "        # Check if each numeral is inside the string.\n",
    "        if numerals[i] in s:\n",
    "            # If it is, then for the number of times it appears,\n",
    "            # add its value to the \"nums\" string.\n",
    "            for j in range(s.count(numerals[i])):\n",
    "                nums.append(vals[i])\n",
    "            # Remove the numeral from the string at the end to\n",
    "            # ensure it is not double counted.\n",
    "            # Avoids IV = 1,4,5 and similar.\n",
    "            s = s.replace(numerals[i],\"\")\n",
    "    return sum(nums)"
   ]
  },
  {
   "cell_type": "code",
   "execution_count": null,
   "id": "b10c3604",
   "metadata": {},
   "outputs": [],
   "source": []
  }
 ],
 "metadata": {
  "kernelspec": {
   "display_name": "Python 3",
   "language": "python",
   "name": "python3"
  },
  "language_info": {
   "codemirror_mode": {
    "name": "ipython",
    "version": 3
   },
   "file_extension": ".py",
   "mimetype": "text/x-python",
   "name": "python",
   "nbconvert_exporter": "python",
   "pygments_lexer": "ipython3",
   "version": "3.8.8"
  }
 },
 "nbformat": 4,
 "nbformat_minor": 5
}
