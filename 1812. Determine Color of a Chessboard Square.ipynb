{
 "cells": [
  {
   "cell_type": "code",
   "execution_count": null,
   "id": "6fdaeb35",
   "metadata": {},
   "outputs": [],
   "source": [
    "def squareIsWhite(str):\n",
    "    \"\"\"\n",
    "    Check if a square on the chessboard is black\n",
    "    or white\n",
    "    \"\"\"\n",
    "    # Use a dictionary to change the letters\n",
    "    # to boolean\n",
    "    squares = {\"a\":0,\n",
    "               \"b\":1,\n",
    "               \"c\":0,\n",
    "               \"d\":1,\n",
    "               \"e\":0,\n",
    "               \"f\":1,\n",
    "               \"g\":0,\n",
    "               \"h\":1,}\n",
    "        \n",
    "    # Create a list of 2 nums then sum it\n",
    "    coordinates = list(coordinates)\n",
    "    coordinates[0] = squares[coordinates[0]]\n",
    "    coordinates[1] = int(coordinates[1])\n",
    "    coordinates = sum(coordinates)\n",
    "        \n",
    "    if coordinates%2:\n",
    "        return False\n",
    "    return True"
   ]
  }
 ],
 "metadata": {
  "kernelspec": {
   "display_name": "Python 3",
   "language": "python",
   "name": "python3"
  },
  "language_info": {
   "codemirror_mode": {
    "name": "ipython",
    "version": 3
   },
   "file_extension": ".py",
   "mimetype": "text/x-python",
   "name": "python",
   "nbconvert_exporter": "python",
   "pygments_lexer": "ipython3",
   "version": "3.8.8"
  }
 },
 "nbformat": 4,
 "nbformat_minor": 5
}
