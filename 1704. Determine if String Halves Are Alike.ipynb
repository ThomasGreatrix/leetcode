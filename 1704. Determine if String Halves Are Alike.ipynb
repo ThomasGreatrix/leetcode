{
 "cells": [
  {
   "cell_type": "code",
   "execution_count": null,
   "id": "6d9d9767",
   "metadata": {},
   "outputs": [],
   "source": [
    "def halvesAreAlike(s):\n",
    "    \"\"\"\n",
    "    Check if the 2 halves are alike.\n",
    "    \"\"\"\n",
    "    # Create a dictionary of all the vowels.\n",
    "    vowels = [\"a\",\"e\",\"i\",\"o\",\"u\",\n",
    "              \"A\",\"E\",\"I\",\"O\",\"U\"]\n",
    "        \n",
    "    # We will check each char using a\n",
    "    # for loop.\n",
    "    s = list(s)\n",
    "    length = int(len(s)/2)\n",
    "        \n",
    "    # Half 1\n",
    "    half1 = 0\n",
    "    for i in range(length):\n",
    "        print(s[i])\n",
    "        if s[i] in vowels:\n",
    "            half1 = half1 + 1\n",
    "        \n",
    "    # Half 2\n",
    "    half2 = 0\n",
    "    for i in range(length):\n",
    "        if s[length + i] in vowels:\n",
    "            half2 = half2 + 1\n",
    "        \n",
    "    if half1 == half2:\n",
    "        return True\n",
    "    print(half1,half2)\n",
    "    return False"
   ]
  },
  {
   "cell_type": "code",
   "execution_count": null,
   "id": "05055c9c",
   "metadata": {},
   "outputs": [],
   "source": []
  }
 ],
 "metadata": {
  "kernelspec": {
   "display_name": "Python 3",
   "language": "python",
   "name": "python3"
  },
  "language_info": {
   "codemirror_mode": {
    "name": "ipython",
    "version": 3
   },
   "file_extension": ".py",
   "mimetype": "text/x-python",
   "name": "python",
   "nbconvert_exporter": "python",
   "pygments_lexer": "ipython3",
   "version": "3.8.8"
  }
 },
 "nbformat": 4,
 "nbformat_minor": 5
}
