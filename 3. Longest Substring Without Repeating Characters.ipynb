{
 "cells": [
  {
   "cell_type": "code",
   "execution_count": null,
   "id": "14d15594",
   "metadata": {},
   "outputs": [],
   "source": [
    "def lengthOfLongestSubstring(s):\n",
    "    biggest_str = 0\n",
    "    for j in range(len(s)):\n",
    "        current_str = s[j]\n",
    "        i = 1\n",
    "        while len(current_str) == len(set(current_str)):\n",
    "            try:\n",
    "                current_str = current_str + s[j+i]\n",
    "                i = i + 1\n",
    "            except:\n",
    "                break\n",
    "        if len(current_str) != len(set(current_str)):\n",
    "            i = i-1\n",
    "        if i > biggest_str:\n",
    "            biggest_str = i\n",
    "    return biggest_str"
   ]
  },
  {
   "cell_type": "code",
   "execution_count": null,
   "id": "1cd10c7e",
   "metadata": {},
   "outputs": [],
   "source": []
  }
 ],
 "metadata": {
  "kernelspec": {
   "display_name": "Python 3",
   "language": "python",
   "name": "python3"
  },
  "language_info": {
   "codemirror_mode": {
    "name": "ipython",
    "version": 3
   },
   "file_extension": ".py",
   "mimetype": "text/x-python",
   "name": "python",
   "nbconvert_exporter": "python",
   "pygments_lexer": "ipython3",
   "version": "3.8.8"
  }
 },
 "nbformat": 4,
 "nbformat_minor": 5
}
