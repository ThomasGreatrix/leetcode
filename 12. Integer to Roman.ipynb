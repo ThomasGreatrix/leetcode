{
 "cells": [
  {
   "cell_type": "code",
   "execution_count": 18,
   "id": "ec83667b",
   "metadata": {},
   "outputs": [],
   "source": [
    "def intToRoman(num):\n",
    "    \"\"\"\n",
    "    Take an integer and translate\n",
    "    it into roman numerals.\n",
    "    \"\"\"\n",
    "    # A list of numerals + the list of their values\n",
    "    vals = [1000, 900, 500, 400, 100, 90, 50, 40, 10, 9, 5, 4, 1]\n",
    "    numerals = [\"M\",\"CM\",\"D\",\"CD\",\"C\",\"XC\",\"L\",\"XL\",\"X\",\"IX\",\"V\",\"IV\",\"I\"]\n",
    "    \n",
    "    # Start with \"no numerals\" in the string.\n",
    "    string = \"\"\n",
    "    for i in range(len(vals)):\n",
    "        # Add numerals to the string based on the number.\n",
    "        while num >= vals[i]:\n",
    "            num = num - vals[i]\n",
    "            string = string + numerals[i]\n",
    "    return string"
   ]
  },
  {
   "cell_type": "code",
   "execution_count": null,
   "id": "591d2abd",
   "metadata": {},
   "outputs": [],
   "source": []
  }
 ],
 "metadata": {
  "kernelspec": {
   "display_name": "Python 3",
   "language": "python",
   "name": "python3"
  },
  "language_info": {
   "codemirror_mode": {
    "name": "ipython",
    "version": 3
   },
   "file_extension": ".py",
   "mimetype": "text/x-python",
   "name": "python",
   "nbconvert_exporter": "python",
   "pygments_lexer": "ipython3",
   "version": "3.8.8"
  }
 },
 "nbformat": 4,
 "nbformat_minor": 5
}
