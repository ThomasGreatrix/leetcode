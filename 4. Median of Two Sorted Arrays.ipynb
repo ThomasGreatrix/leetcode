{
 "cells": [
  {
   "cell_type": "code",
   "execution_count": 1,
   "id": "f0dd5f76",
   "metadata": {},
   "outputs": [],
   "source": [
    "def findMedianSortedArrays(nums1, nums2):\n",
    "    for i in nums2:\n",
    "        nums1.append(i)\n",
    "    nums1 = sorted(nums1)\n",
    "    nums_len = len(nums1)\n",
    "    if nums_len%2:\n",
    "        return nums1[int(nums_len/2)]\n",
    "    return (nums1[int(nums_len/2)]+nums1[int(nums_len/2)-1])/2"
   ]
  },
  {
   "cell_type": "code",
   "execution_count": null,
   "id": "8e848903",
   "metadata": {},
   "outputs": [],
   "source": []
  }
 ],
 "metadata": {
  "kernelspec": {
   "display_name": "Python 3",
   "language": "python",
   "name": "python3"
  },
  "language_info": {
   "codemirror_mode": {
    "name": "ipython",
    "version": 3
   },
   "file_extension": ".py",
   "mimetype": "text/x-python",
   "name": "python",
   "nbconvert_exporter": "python",
   "pygments_lexer": "ipython3",
   "version": "3.8.8"
  }
 },
 "nbformat": 4,
 "nbformat_minor": 5
}
