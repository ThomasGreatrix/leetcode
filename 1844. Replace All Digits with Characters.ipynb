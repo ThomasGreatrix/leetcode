{
 "cells": [
  {
   "cell_type": "code",
   "execution_count": 10,
   "id": "c0402741",
   "metadata": {},
   "outputs": [],
   "source": [
    "def replaceDigits(s: str) -> str:\n",
    "    \"\"\"\n",
    "    Shift each letter in the string\n",
    "    by the number next to it.\n",
    "    \"\"\"\n",
    "    # Turn the string into a list\n",
    "    s = list(s)\n",
    "    \n",
    "    # Start with an empty string\n",
    "    string = \"\"\n",
    "    for i in range(int(len(s)/2)):\n",
    "        string = string + s[i*2]\n",
    "        string = string + chr(ord(s[i*2])+int(s[i*2+1]))\n",
    "    \n",
    "    # Special case for odd-lengthed strings.\n",
    "    if len(s)%2:\n",
    "        string = string + s[-1]\n",
    "        \n",
    "    return string"
   ]
  },
  {
   "cell_type": "code",
   "execution_count": null,
   "id": "18060ef8",
   "metadata": {},
   "outputs": [],
   "source": []
  }
 ],
 "metadata": {
  "kernelspec": {
   "display_name": "Python 3",
   "language": "python",
   "name": "python3"
  },
  "language_info": {
   "codemirror_mode": {
    "name": "ipython",
    "version": 3
   },
   "file_extension": ".py",
   "mimetype": "text/x-python",
   "name": "python",
   "nbconvert_exporter": "python",
   "pygments_lexer": "ipython3",
   "version": "3.8.8"
  }
 },
 "nbformat": 4,
 "nbformat_minor": 5
}
