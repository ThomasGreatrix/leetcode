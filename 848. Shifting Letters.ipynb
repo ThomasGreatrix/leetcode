{
 "cells": [
  {
   "cell_type": "code",
   "execution_count": null,
   "id": "bcddcfc9",
   "metadata": {},
   "outputs": [],
   "source": [
    "def shiftingLetters(s: str, shifts) -> str:\n",
    "    \"\"\"\n",
    "    Apply the shift described in problem\n",
    "    848 to a series of letters.\n",
    "    \"\"\"\n",
    "    # Transfer the string to its\n",
    "    # unicode numbers.\n",
    "    s = [ord(i)-97 for i in s]\n",
    "\n",
    "    # Apply the shift.\n",
    "    shift = sum(shifts)\n",
    "    for i in range(len(s)):\n",
    "        s[i] = s[i]+shift\n",
    "        shift = shift-shifts[i]\n",
    "\n",
    "    # Take the list and turn it\n",
    "    # into a string.\n",
    "    string = \"\"\n",
    "    for i in s:\n",
    "        string = string + chr((i%26) + 97)\n",
    "    return string"
   ]
  },
  {
   "cell_type": "code",
   "execution_count": null,
   "id": "e82cd48b",
   "metadata": {},
   "outputs": [],
   "source": []
  }
 ],
 "metadata": {
  "kernelspec": {
   "display_name": "Python 3",
   "language": "python",
   "name": "python3"
  },
  "language_info": {
   "codemirror_mode": {
    "name": "ipython",
    "version": 3
   },
   "file_extension": ".py",
   "mimetype": "text/x-python",
   "name": "python",
   "nbconvert_exporter": "python",
   "pygments_lexer": "ipython3",
   "version": "3.8.8"
  }
 },
 "nbformat": 4,
 "nbformat_minor": 5
}
