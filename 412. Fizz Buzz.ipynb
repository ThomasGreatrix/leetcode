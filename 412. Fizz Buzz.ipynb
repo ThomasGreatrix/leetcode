{
 "cells": [
  {
   "cell_type": "code",
   "execution_count": null,
   "id": "277cffa1",
   "metadata": {},
   "outputs": [],
   "source": [
    "def fizzBuzz(n):\n",
    "    temp = list()\n",
    "    for i in range(1,n+1):\n",
    "        if not i%15:\n",
    "            temp.append(\"FizzBuzz\")\n",
    "        elif not i%5:\n",
    "            temp.append(\"Buzz\")\n",
    "        elif not i%3:\n",
    "            temp.append(\"Fizz\")\n",
    "        else:\n",
    "            temp.append(str(i))\n",
    "    return temp"
   ]
  }
 ],
 "metadata": {
  "kernelspec": {
   "display_name": "Python 3",
   "language": "python",
   "name": "python3"
  },
  "language_info": {
   "codemirror_mode": {
    "name": "ipython",
    "version": 3
   },
   "file_extension": ".py",
   "mimetype": "text/x-python",
   "name": "python",
   "nbconvert_exporter": "python",
   "pygments_lexer": "ipython3",
   "version": "3.8.8"
  }
 },
 "nbformat": 4,
 "nbformat_minor": 5
}
